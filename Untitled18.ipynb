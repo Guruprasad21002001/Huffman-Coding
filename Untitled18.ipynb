{
  "nbformat": 4,
  "nbformat_minor": 0,
  "metadata": {
    "colab": {
      "provenance": []
    },
    "kernelspec": {
      "name": "python3",
      "display_name": "Python 3"
    },
    "language_info": {
      "name": "python"
    }
  },
  "cells": [
    {
      "cell_type": "code",
      "execution_count": 16,
      "metadata": {
        "id": "IpZ9oeqmThvR"
      },
      "outputs": [],
      "source": [
        "string ='212221230032 Guruprasad'"
      ]
    },
    {
      "cell_type": "code",
      "source": [
        "class NodeTree(object):\n",
        "  def __init__(self,left=None,right=None):\n",
        "    self.left=left\n",
        "    self.right=right\n",
        "    \n",
        "  def children(self):\n",
        "    return(self.left,self.right)"
      ],
      "metadata": {
        "id": "NT69AVCFURQR"
      },
      "execution_count": 21,
      "outputs": []
    },
    {
      "cell_type": "code",
      "source": [
        "#Main function implementing huffman coding\n",
        "\n",
        "def huffman_code_tree(node,left=True,binString=''):\n",
        "  if type(node) is str:\n",
        "    return{node:binString}\n",
        "  (l,r)=node.children()\n",
        "  d=dict()\n",
        "  d.update(huffman_code_tree(l,True,binString +'0'))\n",
        "  d.update(huffman_code_tree(r,False,binString +'1'))\n",
        "  return d"
      ],
      "metadata": {
        "id": "mcNogbFWURa_"
      },
      "execution_count": 33,
      "outputs": []
    },
    {
      "cell_type": "code",
      "source": [
        "#Calculating frequency\n",
        "\n",
        "freq={}\n",
        "for c in string:\n",
        "  if c in freq:\n",
        "    freq[c] +=1\n",
        "  \n",
        "  else:\n",
        "    freq[c] = 1\n",
        "\n",
        "freq=sorted(freq.items(),key=lambda x: x[1],reverse=True)\n",
        "nodes=freq"
      ],
      "metadata": {
        "id": "OWQY4gpmURi1"
      },
      "execution_count": 34,
      "outputs": []
    },
    {
      "cell_type": "code",
      "source": [
        "while len(nodes)>1:\n",
        "  (key1,c1)=nodes[-1]\n",
        "  (key2,c2)=nodes[-2]\n",
        "  nodes=nodes[:-2]\n",
        "  node =NodeTree(key1,key2)\n",
        "  nodes.append((node,c1+c2))\n",
        "  nodes=sorted(nodes,key=lambda x: x[1],reverse=True)"
      ],
      "metadata": {
        "id": "ZqBINBIgVqvb"
      },
      "execution_count": 35,
      "outputs": []
    },
    {
      "cell_type": "code",
      "source": [
        "huffmanCode =huffman_code_tree(nodes[0][0])\n",
        "print('Char |Huffman code')\n",
        "print('--------------------')\n",
        "for (char,frequency) in freq: \n",
        "  print('%4r |%12s' % (char,huffmanCode[char]))"
      ],
      "metadata": {
        "colab": {
          "base_uri": "https://localhost:8080/"
        },
        "id": "bwd6x3Z4WyRW",
        "outputId": "dee9b3fc-1b11-41e6-9a0d-71424ebcd297"
      },
      "execution_count": 36,
      "outputs": [
        {
          "output_type": "stream",
          "name": "stdout",
          "text": [
            "Char |Huffman code\n",
            "--------------------\n",
            " '0' |          10\n",
            " '2' |        1111\n",
            " '1' |        1110\n",
            " 'u' |         001\n",
            " 'r' |         000\n",
            " 'a' |         011\n",
            " ' ' |        1100\n",
            " 'G' |       11011\n",
            " 'p' |       11010\n",
            " 's' |        0101\n",
            " 'd' |        0100\n"
          ]
        }
      ]
    },
    {
      "cell_type": "code",
      "source": [],
      "metadata": {
        "id": "XZEIhVpxelQO"
      },
      "execution_count": null,
      "outputs": []
    }
  ]
}